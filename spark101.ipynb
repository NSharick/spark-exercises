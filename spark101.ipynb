{
 "cells": [
  {
   "cell_type": "markdown",
   "id": "7c334b4e",
   "metadata": {},
   "source": [
    "### Spark 101 - Spark API Exercises"
   ]
  },
  {
   "cell_type": "code",
   "execution_count": 21,
   "id": "182dcb40",
   "metadata": {},
   "outputs": [],
   "source": [
    "import pandas as pd\n",
    "import numpy as np\n",
    "import pyspark\n",
    "import pyspark.sql.functions as f\n",
    "from pyspark.sql.functions import when\n",
    "from pyspark.sql.functions import lit\n",
    "from pydataset import data"
   ]
  },
  {
   "cell_type": "markdown",
   "id": "65f09751",
   "metadata": {},
   "source": [
    "### 1."
   ]
  },
  {
   "cell_type": "code",
   "execution_count": 9,
   "id": "1b78cca9",
   "metadata": {},
   "outputs": [
    {
     "data": {
      "text/html": [
       "<div>\n",
       "<style scoped>\n",
       "    .dataframe tbody tr th:only-of-type {\n",
       "        vertical-align: middle;\n",
       "    }\n",
       "\n",
       "    .dataframe tbody tr th {\n",
       "        vertical-align: top;\n",
       "    }\n",
       "\n",
       "    .dataframe thead th {\n",
       "        text-align: right;\n",
       "    }\n",
       "</style>\n",
       "<table border=\"1\" class=\"dataframe\">\n",
       "  <thead>\n",
       "    <tr style=\"text-align: right;\">\n",
       "      <th></th>\n",
       "      <th>language</th>\n",
       "    </tr>\n",
       "  </thead>\n",
       "  <tbody>\n",
       "    <tr>\n",
       "      <th>0</th>\n",
       "      <td>python</td>\n",
       "    </tr>\n",
       "    <tr>\n",
       "      <th>1</th>\n",
       "      <td>sql</td>\n",
       "    </tr>\n",
       "    <tr>\n",
       "      <th>2</th>\n",
       "      <td>spark</td>\n",
       "    </tr>\n",
       "    <tr>\n",
       "      <th>3</th>\n",
       "      <td>java</td>\n",
       "    </tr>\n",
       "    <tr>\n",
       "      <th>4</th>\n",
       "      <td>javascript</td>\n",
       "    </tr>\n",
       "  </tbody>\n",
       "</table>\n",
       "</div>"
      ],
      "text/plain": [
       "     language\n",
       "0      python\n",
       "1         sql\n",
       "2       spark\n",
       "3        java\n",
       "4  javascript"
      ]
     },
     "execution_count": 9,
     "metadata": {},
     "output_type": "execute_result"
    }
   ],
   "source": [
    "languages = {'language':['python', 'sql', 'spark', 'java', 'javascript']}\n",
    "df = pd.DataFrame(data=languages)\n",
    "df"
   ]
  },
  {
   "cell_type": "code",
   "execution_count": 13,
   "id": "a7a311f4",
   "metadata": {},
   "outputs": [
    {
     "data": {
      "text/plain": [
       "DataFrame[language: string]"
      ]
     },
     "execution_count": 13,
     "metadata": {},
     "output_type": "execute_result"
    }
   ],
   "source": [
    "spark = pyspark.sql.SparkSession.builder.getOrCreate()\n",
    "df = spark.createDataFrame(df)\n",
    "df"
   ]
  },
  {
   "cell_type": "code",
   "execution_count": 14,
   "id": "3545ad01",
   "metadata": {},
   "outputs": [
    {
     "name": "stderr",
     "output_type": "stream",
     "text": [
      "\r",
      "[Stage 0:>                                                          (0 + 1) / 1]\r"
     ]
    },
    {
     "name": "stdout",
     "output_type": "stream",
     "text": [
      "+----------+\n",
      "|  language|\n",
      "+----------+\n",
      "|    python|\n",
      "|       sql|\n",
      "|     spark|\n",
      "|      java|\n",
      "|javascript|\n",
      "+----------+\n",
      "\n"
     ]
    },
    {
     "name": "stderr",
     "output_type": "stream",
     "text": [
      "\r",
      "                                                                                \r"
     ]
    }
   ],
   "source": [
    "df.show(5)"
   ]
  },
  {
   "cell_type": "code",
   "execution_count": 18,
   "id": "d06d5389",
   "metadata": {},
   "outputs": [
    {
     "name": "stdout",
     "output_type": "stream",
     "text": [
      "+-------+--------+\n",
      "|summary|language|\n",
      "+-------+--------+\n",
      "|  count|       5|\n",
      "|   mean|    null|\n",
      "| stddev|    null|\n",
      "|    min|    java|\n",
      "|    max|     sql|\n",
      "+-------+--------+\n",
      "\n"
     ]
    }
   ],
   "source": [
    "df.describe().show()"
   ]
  },
  {
   "cell_type": "code",
   "execution_count": 19,
   "id": "0c57ec6b",
   "metadata": {},
   "outputs": [
    {
     "name": "stdout",
     "output_type": "stream",
     "text": [
      "root\n",
      " |-- language: string (nullable = true)\n",
      "\n"
     ]
    }
   ],
   "source": [
    "df.printSchema()"
   ]
  },
  {
   "cell_type": "code",
   "execution_count": null,
   "id": "dd2cd94d",
   "metadata": {},
   "outputs": [],
   "source": []
  },
  {
   "cell_type": "markdown",
   "id": "1b5973ea",
   "metadata": {},
   "source": [
    "---"
   ]
  },
  {
   "cell_type": "markdown",
   "id": "ee8fce73",
   "metadata": {},
   "source": [
    "### 2."
   ]
  },
  {
   "cell_type": "code",
   "execution_count": 22,
   "id": "ca8c40a5",
   "metadata": {},
   "outputs": [
    {
     "name": "stdout",
     "output_type": "stream",
     "text": [
      "+------------+-----+-----+----+---+----------+---+---+---+---+-------+\n",
      "|manufacturer|model|displ|year|cyl|     trans|drv|cty|hwy| fl|  class|\n",
      "+------------+-----+-----+----+---+----------+---+---+---+---+-------+\n",
      "|        audi|   a4|  1.8|1999|  4|  auto(l5)|  f| 18| 29|  p|compact|\n",
      "|        audi|   a4|  1.8|1999|  4|manual(m5)|  f| 21| 29|  p|compact|\n",
      "|        audi|   a4|  2.0|2008|  4|manual(m6)|  f| 20| 31|  p|compact|\n",
      "|        audi|   a4|  2.0|2008|  4|  auto(av)|  f| 21| 30|  p|compact|\n",
      "|        audi|   a4|  2.8|1999|  6|  auto(l5)|  f| 16| 26|  p|compact|\n",
      "+------------+-----+-----+----+---+----------+---+---+---+---+-------+\n",
      "only showing top 5 rows\n",
      "\n"
     ]
    }
   ],
   "source": [
    "mpg = spark.createDataFrame(data(\"mpg\"))\n",
    "mpg.show(5)"
   ]
  },
  {
   "cell_type": "code",
   "execution_count": 34,
   "id": "1aa92c92",
   "metadata": {},
   "outputs": [
    {
     "name": "stdout",
     "output_type": "stream",
     "text": [
      "+------------------------------------------------+\n",
      "|vehicle statement                               |\n",
      "+------------------------------------------------+\n",
      "|The 1999 audi a4 has a 4 cylinder engine        |\n",
      "|The 1999 audi a4 has a 4 cylinder engine        |\n",
      "|The 2008 audi a4 has a 4 cylinder engine        |\n",
      "|The 2008 audi a4 has a 4 cylinder engine        |\n",
      "|The 1999 audi a4 has a 6 cylinder engine        |\n",
      "|The 1999 audi a4 has a 6 cylinder engine        |\n",
      "|The 2008 audi a4 has a 6 cylinder engine        |\n",
      "|The 1999 audi a4 quattro has a 4 cylinder engine|\n",
      "|The 1999 audi a4 quattro has a 4 cylinder engine|\n",
      "|The 2008 audi a4 quattro has a 4 cylinder engine|\n",
      "+------------------------------------------------+\n",
      "only showing top 10 rows\n",
      "\n"
     ]
    }
   ],
   "source": [
    "mpg.select(f.concat(lit('The '), mpg.year, lit(' '),\n",
    "                    mpg.manufacturer, lit(' '), mpg.model, lit(' '), lit('has a '), \n",
    "                    mpg.cyl, lit(' '), lit('cylinder engine')).alias('vehicle statement')).show(10, truncate=False)"
   ]
  },
  {
   "cell_type": "code",
   "execution_count": 65,
   "id": "bb8dc241",
   "metadata": {},
   "outputs": [
    {
     "name": "stdout",
     "output_type": "stream",
     "text": [
      "+----------+\n",
      "|trans_type|\n",
      "+----------+\n",
      "|      auto|\n",
      "|    manual|\n",
      "|    manual|\n",
      "|      auto|\n",
      "|      auto|\n",
      "+----------+\n",
      "only showing top 5 rows\n",
      "\n"
     ]
    }
   ],
   "source": [
    "mpg.select(f.substring_index(mpg.trans, '(', 1).alias('trans_type')).show(5)"
   ]
  },
  {
   "cell_type": "markdown",
   "id": "7bdba23b",
   "metadata": {},
   "source": [
    "---"
   ]
  },
  {
   "cell_type": "markdown",
   "id": "c420e8f2",
   "metadata": {},
   "source": [
    "### 3."
   ]
  },
  {
   "cell_type": "code",
   "execution_count": 66,
   "id": "eb5e29b9",
   "metadata": {},
   "outputs": [
    {
     "name": "stdout",
     "output_type": "stream",
     "text": [
      "+----------+----+------+------+---+------+----+\n",
      "|total_bill| tip|   sex|smoker|day|  time|size|\n",
      "+----------+----+------+------+---+------+----+\n",
      "|     16.99|1.01|Female|    No|Sun|Dinner|   2|\n",
      "|     10.34|1.66|  Male|    No|Sun|Dinner|   3|\n",
      "|     21.01| 3.5|  Male|    No|Sun|Dinner|   3|\n",
      "|     23.68|3.31|  Male|    No|Sun|Dinner|   2|\n",
      "|     24.59|3.61|Female|    No|Sun|Dinner|   4|\n",
      "+----------+----+------+------+---+------+----+\n",
      "only showing top 5 rows\n",
      "\n"
     ]
    }
   ],
   "source": [
    "tips = spark.createDataFrame(data(\"tips\"))\n",
    "tips.show(5)"
   ]
  },
  {
   "cell_type": "code",
   "execution_count": 96,
   "id": "e4f727dc",
   "metadata": {},
   "outputs": [
    {
     "data": {
      "text/plain": [
       "244"
      ]
     },
     "execution_count": 96,
     "metadata": {},
     "output_type": "execute_result"
    }
   ],
   "source": [
    "total = tips.select(f.count(tips.smoker)).head()[0]\n",
    "total"
   ]
  },
  {
   "cell_type": "code",
   "execution_count": 99,
   "id": "8958b80e",
   "metadata": {},
   "outputs": [
    {
     "name": "stdout",
     "output_type": "stream",
     "text": [
      "+------+-----+-------------------+\n",
      "|smoker|count|         percentage|\n",
      "+------+-----+-------------------+\n",
      "|    No|  151| 0.6188524590163934|\n",
      "|   Yes|   93|0.38114754098360654|\n",
      "+------+-----+-------------------+\n",
      "\n"
     ]
    }
   ],
   "source": [
    "#method chaining...\n",
    "tips.groupby(tips.smoker).count().select('*', (f.col('count')/total).alias('percentage')).show()"
   ]
  },
  {
   "cell_type": "code",
   "execution_count": 101,
   "id": "67066e7b",
   "metadata": {},
   "outputs": [
    {
     "name": "stdout",
     "output_type": "stream",
     "text": [
      "+----------+----+------+------+---+------+----+-------------------+\n",
      "|total_bill| tip|   sex|smoker|day|  time|size|     tip_percentage|\n",
      "+----------+----+------+------+---+------+----+-------------------+\n",
      "|     16.99|1.01|Female|    No|Sun|Dinner|   2|0.05944673337257211|\n",
      "|     10.34|1.66|  Male|    No|Sun|Dinner|   3|0.16054158607350097|\n",
      "|     21.01| 3.5|  Male|    No|Sun|Dinner|   3|0.16658733936220846|\n",
      "|     23.68|3.31|  Male|    No|Sun|Dinner|   2| 0.1397804054054054|\n",
      "|     24.59|3.61|Female|    No|Sun|Dinner|   4|0.14680764538430255|\n",
      "+----------+----+------+------+---+------+----+-------------------+\n",
      "only showing top 5 rows\n",
      "\n"
     ]
    }
   ],
   "source": [
    "tips.select('*', ((tips.tip / tips.total_bill).alias('tip_percentage'))).show(5)"
   ]
  },
  {
   "cell_type": "code",
   "execution_count": 106,
   "id": "a3f94aae",
   "metadata": {},
   "outputs": [
    {
     "name": "stdout",
     "output_type": "stream",
     "text": [
      "+------+------+------------------+\n",
      "|   sex|smoker|          avg(tip)|\n",
      "+------+------+------------------+\n",
      "|  Male|    No|3.1134020618556706|\n",
      "|Female|    No| 2.773518518518518|\n",
      "|  Male|   Yes| 3.051166666666666|\n",
      "|Female|   Yes| 2.931515151515151|\n",
      "+------+------+------------------+\n",
      "\n"
     ]
    }
   ],
   "source": [
    "tips.groupby('sex', 'smoker').agg(f.avg('tip')).show()"
   ]
  },
  {
   "cell_type": "markdown",
   "id": "bb848b4c",
   "metadata": {},
   "source": [
    "---"
   ]
  },
  {
   "cell_type": "markdown",
   "id": "dbd957dd",
   "metadata": {},
   "source": [
    "### 4."
   ]
  },
  {
   "cell_type": "code",
   "execution_count": 187,
   "id": "0c3aa359",
   "metadata": {},
   "outputs": [
    {
     "name": "stdout",
     "output_type": "stream",
     "text": [
      "+----------+-------------+--------+--------+----+-------+\n",
      "|      date|precipitation|temp_max|temp_min|wind|weather|\n",
      "+----------+-------------+--------+--------+----+-------+\n",
      "|2012-01-01|          0.0|    12.8|     5.0| 4.7|drizzle|\n",
      "|2012-01-02|         10.9|    10.6|     2.8| 4.5|   rain|\n",
      "|2012-01-03|          0.8|    11.7|     7.2| 2.3|   rain|\n",
      "|2012-01-04|         20.3|    12.2|     5.6| 4.7|   rain|\n",
      "|2012-01-05|          1.3|     8.9|     2.8| 6.1|   rain|\n",
      "|2012-01-06|          2.5|     4.4|     2.2| 2.2|   rain|\n",
      "+----------+-------------+--------+--------+----+-------+\n",
      "only showing top 6 rows\n",
      "\n"
     ]
    }
   ],
   "source": [
    "from vega_datasets import data\n",
    "\n",
    "weather = data.seattle_weather().assign(date=lambda df: df.date.astype(str))\n",
    "weather = spark.createDataFrame(weather)\n",
    "weather.show(6)"
   ]
  },
  {
   "cell_type": "code",
   "execution_count": 189,
   "id": "b0dd28ef",
   "metadata": {},
   "outputs": [
    {
     "name": "stdout",
     "output_type": "stream",
     "text": [
      "+----------+-------------+--------+--------+----+-------+\n",
      "|      date|precipitation|temp_max|temp_min|wind|weather|\n",
      "+----------+-------------+--------+--------+----+-------+\n",
      "|2012-01-01|          0.0|   55.04|    41.0| 4.7|drizzle|\n",
      "|2012-01-02|         10.9|   51.08|   37.04| 4.5|   rain|\n",
      "|2012-01-03|          0.8|   53.06|   44.96| 2.3|   rain|\n",
      "|2012-01-04|         20.3|   53.96|   42.08| 4.7|   rain|\n",
      "|2012-01-05|          1.3|   48.02|   37.04| 6.1|   rain|\n",
      "+----------+-------------+--------+--------+----+-------+\n",
      "only showing top 5 rows\n",
      "\n"
     ]
    }
   ],
   "source": [
    "#convert temps to F\n",
    "weather = weather.withColumn(\n",
    "    \"temp_max\", (f.col(\"temp_max\") * 9 / 5 + 32)\n",
    ").withColumn(\"temp_min\", (f.col(\"temp_min\") * 9 / 5 + 32))\n",
    "weather.show(5)"
   ]
  },
  {
   "cell_type": "code",
   "execution_count": 190,
   "id": "9d9609a2",
   "metadata": {},
   "outputs": [
    {
     "name": "stdout",
     "output_type": "stream",
     "text": [
      "+-----+-------------------+\n",
      "|month|       avg_rainfall|\n",
      "+-----+-------------------+\n",
      "|   11|  5.354166666666667|\n",
      "|   12|  5.021774193548389|\n",
      "|    3|  4.888709677419354|\n",
      "|   10|  4.059677419354839|\n",
      "|    1| 3.7580645161290316|\n",
      "|    2|  3.734513274336283|\n",
      "|    4|  3.128333333333333|\n",
      "|    9|             1.9625|\n",
      "|    5| 1.6733870967741935|\n",
      "|    8| 1.3201612903225806|\n",
      "|    6| 1.1075000000000002|\n",
      "|    7|0.38870967741935486|\n",
      "+-----+-------------------+\n",
      "\n"
     ]
    }
   ],
   "source": [
    "from pyspark.sql.functions import month, year, quarter\n",
    "(\n",
    "    weather.withColumn(\"month\", month(\"date\"))\n",
    "    .groupBy(\"month\")\n",
    "    .agg(f.avg(\"precipitation\").alias(\"avg_rainfall\"))\n",
    "    .sort(\"avg_rainfall\", ascending=False)\n",
    "    .show()\n",
    ")\n",
    "\n"
   ]
  },
  {
   "cell_type": "code",
   "execution_count": 191,
   "id": "ea15a7b4",
   "metadata": {},
   "outputs": [
    {
     "name": "stdout",
     "output_type": "stream",
     "text": [
      "+----+------------------+\n",
      "|year|          avg_wind|\n",
      "+----+------------------+\n",
      "|2012| 3.400819672131147|\n",
      "|2014|3.3876712328767122|\n",
      "|2015|  3.15972602739726|\n",
      "|2013|3.0158904109589044|\n",
      "+----+------------------+\n",
      "\n"
     ]
    }
   ],
   "source": [
    "(\n",
    "    weather.withColumn(\"year\", year(\"date\"))\n",
    "    .groupBy(\"year\")\n",
    "    .agg(f.avg(\"wind\").alias(\"avg_wind\"))\n",
    "    .sort(\"avg_wind\", ascending=False)\n",
    "    .show()\n",
    ")"
   ]
  },
  {
   "cell_type": "code",
   "execution_count": 192,
   "id": "6fbdf807",
   "metadata": {},
   "outputs": [
    {
     "name": "stdout",
     "output_type": "stream",
     "text": [
      "+----------+-------------+------------------+------------------+----+-------+-----+\n",
      "|      date|precipitation|          temp_max|          temp_min|wind|weather|month|\n",
      "+----------+-------------+------------------+------------------+----+-------+-----+\n",
      "|2012-01-01|          0.0|             55.04|              41.0| 4.7|drizzle|    1|\n",
      "|2012-01-02|         10.9|             51.08|             37.04| 4.5|   rain|    1|\n",
      "|2012-01-03|          0.8|             53.06|             44.96| 2.3|   rain|    1|\n",
      "|2012-01-04|         20.3|             53.96|             42.08| 4.7|   rain|    1|\n",
      "|2012-01-05|          1.3|             48.02|             37.04| 6.1|   rain|    1|\n",
      "|2012-01-06|          2.5|             39.92|             35.96| 2.2|   rain|    1|\n",
      "|2012-01-07|          0.0|             44.96|             37.04| 2.3|   rain|    1|\n",
      "|2012-01-08|          0.0|              50.0|             37.04| 2.0|    sun|    1|\n",
      "|2012-01-09|          4.3|             48.92|              41.0| 3.4|   rain|    1|\n",
      "|2012-01-10|          1.0|42.980000000000004|             33.08| 3.4|   rain|    1|\n",
      "|2012-01-11|          0.0|42.980000000000004|             30.02| 5.1|    sun|    1|\n",
      "|2012-01-12|          0.0|42.980000000000004|             28.94| 1.9|    sun|    1|\n",
      "|2012-01-13|          0.0|              41.0|             26.96| 1.3|    sun|    1|\n",
      "|2012-01-14|          4.1|             39.92|             33.08| 5.3|   snow|    1|\n",
      "|2012-01-15|          5.3|             33.98|26.060000000000002| 3.2|   snow|    1|\n",
      "|2012-01-16|          2.5|             35.06|             26.96| 5.0|   snow|    1|\n",
      "|2012-01-17|          8.1|             37.94|              32.0| 5.6|   snow|    1|\n",
      "|2012-01-18|         19.8|              32.0|             26.96| 5.0|   snow|    1|\n",
      "|2012-01-19|         15.2|             30.02|             26.96| 1.6|   snow|    1|\n",
      "|2012-01-20|         13.5|             44.96|             30.02| 2.3|   snow|    1|\n",
      "+----------+-------------+------------------+------------------+----+-------+-----+\n",
      "only showing top 20 rows\n",
      "\n"
     ]
    }
   ],
   "source": [
    "df2 = weather.withColumn(\"month\", month(\"date\"))\n",
    "df2.show()"
   ]
  },
  {
   "cell_type": "code",
   "execution_count": 193,
   "id": "4c966581",
   "metadata": {},
   "outputs": [
    {
     "name": "stdout",
     "output_type": "stream",
     "text": [
      "+----------+-------------+------------------+------------------+----+-------+-----+\n",
      "|      date|precipitation|          temp_max|          temp_min|wind|weather|month|\n",
      "+----------+-------------+------------------+------------------+----+-------+-----+\n",
      "|2012-01-01|          0.0|             55.04|              41.0| 4.7|drizzle|    1|\n",
      "|2012-01-02|         10.9|             51.08|             37.04| 4.5|   rain|    1|\n",
      "|2012-01-03|          0.8|             53.06|             44.96| 2.3|   rain|    1|\n",
      "|2012-01-04|         20.3|             53.96|             42.08| 4.7|   rain|    1|\n",
      "|2012-01-05|          1.3|             48.02|             37.04| 6.1|   rain|    1|\n",
      "|2012-01-06|          2.5|             39.92|             35.96| 2.2|   rain|    1|\n",
      "|2012-01-07|          0.0|             44.96|             37.04| 2.3|   rain|    1|\n",
      "|2012-01-08|          0.0|              50.0|             37.04| 2.0|    sun|    1|\n",
      "|2012-01-09|          4.3|             48.92|              41.0| 3.4|   rain|    1|\n",
      "|2012-01-10|          1.0|42.980000000000004|             33.08| 3.4|   rain|    1|\n",
      "|2012-01-11|          0.0|42.980000000000004|             30.02| 5.1|    sun|    1|\n",
      "|2012-01-12|          0.0|42.980000000000004|             28.94| 1.9|    sun|    1|\n",
      "|2012-01-13|          0.0|              41.0|             26.96| 1.3|    sun|    1|\n",
      "|2012-01-14|          4.1|             39.92|             33.08| 5.3|   snow|    1|\n",
      "|2012-01-15|          5.3|             33.98|26.060000000000002| 3.2|   snow|    1|\n",
      "|2012-01-16|          2.5|             35.06|             26.96| 5.0|   snow|    1|\n",
      "|2012-01-17|          8.1|             37.94|              32.0| 5.6|   snow|    1|\n",
      "|2012-01-18|         19.8|              32.0|             26.96| 5.0|   snow|    1|\n",
      "|2012-01-19|         15.2|             30.02|             26.96| 1.6|   snow|    1|\n",
      "|2012-01-20|         13.5|             44.96|             30.02| 2.3|   snow|    1|\n",
      "+----------+-------------+------------------+------------------+----+-------+-----+\n",
      "only showing top 20 rows\n",
      "\n"
     ]
    }
   ],
   "source": [
    "df3 = df2.filter(df2.month == 1)\n",
    "df3.show()"
   ]
  },
  {
   "cell_type": "code",
   "execution_count": 194,
   "id": "27f5473f",
   "metadata": {},
   "outputs": [
    {
     "name": "stdout",
     "output_type": "stream",
     "text": [
      "+-------+-----+\n",
      "|weather|count|\n",
      "+-------+-----+\n",
      "|    fog|   38|\n",
      "|   rain|   35|\n",
      "|    sun|   33|\n",
      "|drizzle|   10|\n",
      "|   snow|    8|\n",
      "+-------+-----+\n",
      "\n"
     ]
    }
   ],
   "source": [
    "df3.groupby('weather').count().sort('count', ascending=False).show()"
   ]
  },
  {
   "cell_type": "code",
   "execution_count": 195,
   "id": "1c7a94cd",
   "metadata": {},
   "outputs": [
    {
     "name": "stdout",
     "output_type": "stream",
     "text": [
      "+-------+-----+\n",
      "|weather|count|\n",
      "+-------+-----+\n",
      "|    fog|   38|\n",
      "|   rain|   35|\n",
      "|    sun|   33|\n",
      "|drizzle|   10|\n",
      "|   snow|    8|\n",
      "+-------+-----+\n",
      "\n"
     ]
    }
   ],
   "source": [
    "#all in one call - needed to use the 'col()' function to make it run together\n",
    "(\n",
    "    weather.withColumn(\"month\", month(\"date\"))\n",
    "    .filter(f.col('month') == 1)\n",
    "    .groupby('weather').count()\n",
    "    .sort('count', ascending=False)\n",
    "    .show()\n",
    ")"
   ]
  },
  {
   "cell_type": "code",
   "execution_count": 196,
   "id": "488b4b3b",
   "metadata": {},
   "outputs": [
    {
     "name": "stdout",
     "output_type": "stream",
     "text": [
      "+----------+-------------+------------------+------------------+----+-------+-----+----+\n",
      "|      date|precipitation|          temp_max|          temp_min|wind|weather|month|year|\n",
      "+----------+-------------+------------------+------------------+----+-------+-----+----+\n",
      "|2012-01-01|          0.0|             55.04|              41.0| 4.7|drizzle|    1|2012|\n",
      "|2012-01-02|         10.9|             51.08|             37.04| 4.5|   rain|    1|2012|\n",
      "|2012-01-03|          0.8|             53.06|             44.96| 2.3|   rain|    1|2012|\n",
      "|2012-01-04|         20.3|             53.96|             42.08| 4.7|   rain|    1|2012|\n",
      "|2012-01-05|          1.3|             48.02|             37.04| 6.1|   rain|    1|2012|\n",
      "|2012-01-06|          2.5|             39.92|             35.96| 2.2|   rain|    1|2012|\n",
      "|2012-01-07|          0.0|             44.96|             37.04| 2.3|   rain|    1|2012|\n",
      "|2012-01-08|          0.0|              50.0|             37.04| 2.0|    sun|    1|2012|\n",
      "|2012-01-09|          4.3|             48.92|              41.0| 3.4|   rain|    1|2012|\n",
      "|2012-01-10|          1.0|42.980000000000004|             33.08| 3.4|   rain|    1|2012|\n",
      "|2012-01-11|          0.0|42.980000000000004|             30.02| 5.1|    sun|    1|2012|\n",
      "|2012-01-12|          0.0|42.980000000000004|             28.94| 1.9|    sun|    1|2012|\n",
      "|2012-01-13|          0.0|              41.0|             26.96| 1.3|    sun|    1|2012|\n",
      "|2012-01-14|          4.1|             39.92|             33.08| 5.3|   snow|    1|2012|\n",
      "|2012-01-15|          5.3|             33.98|26.060000000000002| 3.2|   snow|    1|2012|\n",
      "|2012-01-16|          2.5|             35.06|             26.96| 5.0|   snow|    1|2012|\n",
      "|2012-01-17|          8.1|             37.94|              32.0| 5.6|   snow|    1|2012|\n",
      "|2012-01-18|         19.8|              32.0|             26.96| 5.0|   snow|    1|2012|\n",
      "|2012-01-19|         15.2|             30.02|             26.96| 1.6|   snow|    1|2012|\n",
      "|2012-01-20|         13.5|             44.96|             30.02| 2.3|   snow|    1|2012|\n",
      "+----------+-------------+------------------+------------------+----+-------+-----+----+\n",
      "only showing top 20 rows\n",
      "\n"
     ]
    }
   ],
   "source": [
    "month_year = weather.withColumn(\"month\", month(\"date\")).withColumn('year', year('date'))\n",
    "month_year.show()"
   ]
  },
  {
   "cell_type": "code",
   "execution_count": 197,
   "id": "72025dec",
   "metadata": {},
   "outputs": [
    {
     "name": "stdout",
     "output_type": "stream",
     "text": [
      "+-----------------+-----------------+\n",
      "|    avg(temp_max)|    avg(temp_min)|\n",
      "+-----------------+-----------------+\n",
      "|79.85333333333334|57.16666666666668|\n",
      "+-----------------+-----------------+\n",
      "\n"
     ]
    }
   ],
   "source": [
    "(    \n",
    "    month_year.filter(month_year.year == 2013)\n",
    "    .filter(month_year.month == 7)\n",
    "    .filter(month_year.weather == 'sun')\n",
    "    .agg(f.avg('temp_max'), f.avg('temp_min')).show()\n",
    "\n",
    ")"
   ]
  },
  {
   "cell_type": "code",
   "execution_count": 198,
   "id": "30d4100d",
   "metadata": {},
   "outputs": [
    {
     "name": "stdout",
     "output_type": "stream",
     "text": [
      "+-----------------+-----------------+\n",
      "|    avg(temp_max)|    avg(temp_min)|\n",
      "+-----------------+-----------------+\n",
      "|79.85333333333334|57.16666666666668|\n",
      "+-----------------+-----------------+\n",
      "\n"
     ]
    }
   ],
   "source": [
    "#all in one call - needed to use the 'col()' function to make it run together\n",
    "(\n",
    "    weather.withColumn(\"month\", month(\"date\"))\n",
    "    .withColumn('year', year('date'))\n",
    "    .filter(f.col('year') == 2013)\n",
    "    .filter(f.col('month') == 7)\n",
    "    .filter(weather.weather == 'sun')\n",
    "    .agg(f.avg('temp_max'), f.avg('temp_min'))\n",
    "    .show()\n",
    ")\n"
   ]
  },
  {
   "cell_type": "code",
   "execution_count": 199,
   "id": "76ea2c1e",
   "metadata": {},
   "outputs": [
    {
     "name": "stdout",
     "output_type": "stream",
     "text": [
      "+----------+-------------+------------------+------------------+----+-------+-------+----+\n",
      "|      date|precipitation|          temp_max|          temp_min|wind|weather|quarter|year|\n",
      "+----------+-------------+------------------+------------------+----+-------+-------+----+\n",
      "|2012-01-01|          0.0|             55.04|              41.0| 4.7|drizzle|      1|2012|\n",
      "|2012-01-02|         10.9|             51.08|             37.04| 4.5|   rain|      1|2012|\n",
      "|2012-01-03|          0.8|             53.06|             44.96| 2.3|   rain|      1|2012|\n",
      "|2012-01-04|         20.3|             53.96|             42.08| 4.7|   rain|      1|2012|\n",
      "|2012-01-05|          1.3|             48.02|             37.04| 6.1|   rain|      1|2012|\n",
      "|2012-01-06|          2.5|             39.92|             35.96| 2.2|   rain|      1|2012|\n",
      "|2012-01-07|          0.0|             44.96|             37.04| 2.3|   rain|      1|2012|\n",
      "|2012-01-08|          0.0|              50.0|             37.04| 2.0|    sun|      1|2012|\n",
      "|2012-01-09|          4.3|             48.92|              41.0| 3.4|   rain|      1|2012|\n",
      "|2012-01-10|          1.0|42.980000000000004|             33.08| 3.4|   rain|      1|2012|\n",
      "|2012-01-11|          0.0|42.980000000000004|             30.02| 5.1|    sun|      1|2012|\n",
      "|2012-01-12|          0.0|42.980000000000004|             28.94| 1.9|    sun|      1|2012|\n",
      "|2012-01-13|          0.0|              41.0|             26.96| 1.3|    sun|      1|2012|\n",
      "|2012-01-14|          4.1|             39.92|             33.08| 5.3|   snow|      1|2012|\n",
      "|2012-01-15|          5.3|             33.98|26.060000000000002| 3.2|   snow|      1|2012|\n",
      "|2012-01-16|          2.5|             35.06|             26.96| 5.0|   snow|      1|2012|\n",
      "|2012-01-17|          8.1|             37.94|              32.0| 5.6|   snow|      1|2012|\n",
      "|2012-01-18|         19.8|              32.0|             26.96| 5.0|   snow|      1|2012|\n",
      "|2012-01-19|         15.2|             30.02|             26.96| 1.6|   snow|      1|2012|\n",
      "|2012-01-20|         13.5|             44.96|             30.02| 2.3|   snow|      1|2012|\n",
      "+----------+-------------+------------------+------------------+----+-------+-------+----+\n",
      "only showing top 20 rows\n",
      "\n"
     ]
    }
   ],
   "source": [
    "df5 = weather.withColumn('quarter', quarter('date')).withColumn('year', year('date'))\n",
    "df5.show()"
   ]
  },
  {
   "cell_type": "code",
   "execution_count": 200,
   "id": "13b3cf22",
   "metadata": {},
   "outputs": [
    {
     "name": "stdout",
     "output_type": "stream",
     "text": [
      "+----------+-------------+-----------------+------------------+----+-------+-------+----+\n",
      "|      date|precipitation|         temp_max|          temp_min|wind|weather|quarter|year|\n",
      "+----------+-------------+-----------------+------------------+----+-------+-------+----+\n",
      "|2015-07-01|          0.0|89.96000000000001|62.959999999999994| 4.3|    sun|      3|2015|\n",
      "|2015-07-02|          0.0|            93.02|             64.04| 3.4|    sun|      3|2015|\n",
      "|2015-07-03|          0.0|            91.94|             64.04| 2.6|    sun|      3|2015|\n",
      "|2015-07-04|          0.0|            91.94|              59.0| 2.9|    sun|      3|2015|\n",
      "|2015-07-05|          0.0|91.03999999999999|62.059999999999995| 2.1|    sun|      3|2015|\n",
      "|2015-07-06|          0.0|84.91999999999999|             60.08| 3.2|drizzle|      3|2015|\n",
      "|2015-07-07|          0.0|            80.96|             57.02| 2.4|    sun|      3|2015|\n",
      "|2015-07-08|          0.0|             86.0|             57.92| 1.9|drizzle|      3|2015|\n",
      "|2015-07-09|          0.0|            84.02|             57.92| 3.4|    sun|      3|2015|\n",
      "|2015-07-10|          0.0|            69.98|62.059999999999995| 3.7|    sun|      3|2015|\n",
      "|2015-07-11|          0.0|            71.96|62.059999999999995| 3.0|    sun|      3|2015|\n",
      "|2015-07-12|          0.0|            78.98|62.059999999999995| 2.2|    sun|      3|2015|\n",
      "|2015-07-13|          0.0|            78.08|60.980000000000004| 3.1|    sun|      3|2015|\n",
      "|2015-07-14|          0.0|            82.04|60.980000000000004| 3.3|    sun|      3|2015|\n",
      "|2015-07-15|          0.0|            78.98|             57.92| 3.2|    sun|      3|2015|\n",
      "|2015-07-16|          0.0|            78.98|              59.0| 2.8|    sun|      3|2015|\n",
      "|2015-07-17|          0.0|            82.04|             57.02| 3.3|    sun|      3|2015|\n",
      "|2015-07-18|          0.0|            91.94|             64.04| 3.4|    sun|      3|2015|\n",
      "|2015-07-19|          0.0|             95.0|62.959999999999994| 3.3|    sun|      3|2015|\n",
      "|2015-07-20|          0.0|            80.06|62.059999999999995| 3.9|    sun|      3|2015|\n",
      "+----------+-------------+-----------------+------------------+----+-------+-------+----+\n",
      "only showing top 20 rows\n",
      "\n"
     ]
    }
   ],
   "source": [
    "df6 = df5.filter(df5.year == 2015).filter(df5.quarter == 3)\n",
    "df6.show()"
   ]
  },
  {
   "cell_type": "code",
   "execution_count": 201,
   "id": "bb09de08",
   "metadata": {},
   "outputs": [
    {
     "name": "stdout",
     "output_type": "stream",
     "text": [
      "+-------+-----+\n",
      "|weather|count|\n",
      "+-------+-----+\n",
      "|    fog|   21|\n",
      "|drizzle|    5|\n",
      "|   rain|    2|\n",
      "|    sun|   64|\n",
      "+-------+-----+\n",
      "\n"
     ]
    }
   ],
   "source": [
    "df6.groupby('weather').count().show()"
   ]
  },
  {
   "cell_type": "code",
   "execution_count": 202,
   "id": "b797d687",
   "metadata": {},
   "outputs": [
    {
     "name": "stdout",
     "output_type": "stream",
     "text": [
      "+--------------------+\n",
      "|           avg(rain)|\n",
      "+--------------------+\n",
      "|0.021739130434782608|\n",
      "+--------------------+\n",
      "\n"
     ]
    }
   ],
   "source": [
    "df6.select(when(f.col(\"weather\") == \"rain\", 1).otherwise(0).alias(\"rain\")).agg(f.mean(\"rain\")).show()"
   ]
  },
  {
   "cell_type": "code",
   "execution_count": 204,
   "id": "0a6b66ca",
   "metadata": {},
   "outputs": [
    {
     "name": "stdout",
     "output_type": "stream",
     "text": [
      "+----+-------------------+\n",
      "|year|      avg(did_rain)|\n",
      "+----+-------------------+\n",
      "|2012|0.48360655737704916|\n",
      "|2013|0.41643835616438357|\n",
      "|2014|  0.410958904109589|\n",
      "|2015|0.39452054794520547|\n",
      "+----+-------------------+\n",
      "\n"
     ]
    }
   ],
   "source": [
    "# measure a rainy day by precipitation > 0\n",
    "(\n",
    "    weather.withColumn(\"year\", year(\"date\"))\n",
    "    .select(when(f.col(\"precipitation\") > 0, 1).otherwise(0).alias(\"did_rain\"), \"year\")\n",
    "    .groupby(\"year\")\n",
    "    .agg(f.mean(\"did_rain\"))\n",
    "    .show()\n",
    ")"
   ]
  },
  {
   "cell_type": "code",
   "execution_count": null,
   "id": "1b9e46df",
   "metadata": {},
   "outputs": [],
   "source": []
  }
 ],
 "metadata": {
  "kernelspec": {
   "display_name": "Python 3 (ipykernel)",
   "language": "python",
   "name": "python3"
  },
  "language_info": {
   "codemirror_mode": {
    "name": "ipython",
    "version": 3
   },
   "file_extension": ".py",
   "mimetype": "text/x-python",
   "name": "python",
   "nbconvert_exporter": "python",
   "pygments_lexer": "ipython3",
   "version": "3.9.7"
  }
 },
 "nbformat": 4,
 "nbformat_minor": 5
}
